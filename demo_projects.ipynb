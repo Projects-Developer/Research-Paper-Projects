{
  "nbformat": 4,
  "nbformat_minor": 0,
  "metadata": {
    "colab": {
      "name": "demo_projects.ipynb",
      "provenance": []
    },
    "kernelspec": {
      "name": "python3",
      "display_name": "Python 3"
    },
    "language_info": {
      "name": "python"
    }
  },
  "cells": [
    {
      "cell_type": "code",
      "source": [
        ""
      ],
      "metadata": {
        "id": "QDx05Zlmq7iB"
      },
      "execution_count": null,
      "outputs": []
    },
    {
      "cell_type": "markdown",
      "source": [
        "# contact for Projects Code: \n",
        "\n",
        "# Gmail : vatshayan007@gmail.com\n",
        "\n"
      ],
      "metadata": {
        "id": "S5Rcxu7QFO-p"
      }
    },
    {
      "cell_type": "markdown",
      "source": [
        "## Projects Code avialable on many projects:\n",
        "\n",
        "Some Projects are like:\n",
        "\n",
        "Top Capstone Projects for students are:\n",
        "\n",
        "1.Fake News Detection\n",
        "\n",
        "2.Face Mask Detection\n",
        "\n",
        "3.Face Recognition System\n",
        "\n",
        "4.Malware Detection System\n",
        "\n",
        "5.Steganography Project\n",
        "\n",
        "6.Triple DES Image Project\n",
        "\n",
        "7.Health Heart Disease Prediction\n",
        "\n",
        "8.Duplication checker system\n",
        "\n",
        "9.India Rainfall Prediction system\n",
        "\n",
        "10.Disease prediction system"
      ],
      "metadata": {
        "id": "-GfJa0LXFW9H"
      }
    },
    {
      "cell_type": "code",
      "source": [
        ""
      ],
      "metadata": {
        "id": "SzUJO2cwFUQ4"
      },
      "execution_count": null,
      "outputs": []
    }
  ]
}